{
 "cells": [
  {
   "cell_type": "markdown",
   "id": "2538a58f-99e4-49cf-a328-7346bcf56f2a",
   "metadata": {},
   "source": [
    "# Cálculos Estatísticos em Python"
   ]
  },
  {
   "cell_type": "markdown",
   "id": "6d1c4c8b-efae-4de7-81c7-36a60727b0f7",
   "metadata": {},
   "source": [
    "### Tabela de Frequencia e Frequência Relativa"
   ]
  },
  {
   "cell_type": "code",
   "execution_count": 11,
   "id": "87a404be-8f6f-4850-ba89-ddf0a9a499c2",
   "metadata": {},
   "outputs": [
    {
     "name": "stdout",
     "output_type": "stream",
     "text": [
      "Valor | Frequencia | Frequencia Relativa (%)\n",
      "------------------------------------------\n",
      "22    | 4              | 16.00%\n",
      "25    | 6              | 24.00%\n",
      "28    | 4              | 16.00%\n",
      "30    | 4              | 16.00%\n",
      "32    | 3              | 12.00%\n",
      "35    | 2              | 8.00%\n",
      "40    | 2              | 8.00%\n",
      "------------------------------------------\n"
     ]
    }
   ],
   "source": [
    "from collections import Counter\n",
    "\n",
    "dados = [22, 25, 30, 28, 25, 32, 25, 22, 35, 28, 40, 30, 25, 22, 32, 28, 30, 35, 25, 22, 28, 30, 25, 40, 32]\n",
    "\n",
    "frequencia = Counter(dados)\n",
    "total = len(dados)\n",
    "\n",
    "print(\"Valor | Frequencia | Frequencia Relativa (%)\")\n",
    "print(\"------------------------------------------\")\n",
    "\n",
    "for item in sorted(frequencia.keys()):\n",
    "    freq_abs = frequencia[item]\n",
    "    freq_rel = (freq_abs / total) * 100\n",
    "    print(f\"{item:<5} | {freq_abs:<14} | {freq_rel:.2f}%\")\n",
    "print(\"------------------------------------------\")"
   ]
  },
  {
   "cell_type": "code",
   "execution_count": 20,
   "id": "f83f8c8c-82cd-4a40-b9c1-009d66f877e3",
   "metadata": {},
   "outputs": [
    {
     "name": "stdout",
     "output_type": "stream",
     "text": [
      "   valor  frequencia_absoluta  frequencia_relativa\n",
      "0     22                    4                 16.0\n",
      "1     25                    6                 24.0\n",
      "2     28                    4                 16.0\n",
      "3     30                    4                 16.0\n",
      "4     32                    3                 12.0\n",
      "5     35                    2                  8.0\n",
      "6     40                    2                  8.0\n"
     ]
    }
   ],
   "source": [
    "import pandas as pd\n",
    "from collections import Counter\n",
    "\n",
    "dados = [22, 25, 30, 28, 25, 32, 25, 22, 35, 28, 40, 30, 25, 22, 32, 28, 30, 35, 25, 22, 28, 30, 25, 40, 32]\n",
    "\n",
    "frequencia = Counter(dados)\n",
    "total = len(dados)\n",
    "\n",
    "valores = []\n",
    "freq_abs = []\n",
    "freq_rel_percentual = []\n",
    "\n",
    "for item in sorted(frequencia.keys()):\n",
    "    abs_count = frequencia[item]\n",
    "    rel_percent = (abs_count / total) * 100    \n",
    "    valores.append(item)\n",
    "    freq_abs.append(abs_count)\n",
    "    freq_rel_percentual.append(round(rel_percent, 2))\n",
    "    output_df = pd.DataFrame({\n",
    "        'valor': valores,\n",
    "        'frequencia_absoluta': freq_abs,\n",
    "        'frequencia_relativa': freq_rel_percentual\n",
    "    })\n",
    "\n",
    "print(output_df)"
   ]
  },
  {
   "cell_type": "code",
   "execution_count": null,
   "id": "eea6c7ef-7536-4af9-9786-88bc6ca5d102",
   "metadata": {},
   "outputs": [],
   "source": []
  }
 ],
 "metadata": {
  "kernelspec": {
   "display_name": "Python 3 (ipykernel)",
   "language": "python",
   "name": "python3"
  },
  "language_info": {
   "codemirror_mode": {
    "name": "ipython",
    "version": 3
   },
   "file_extension": ".py",
   "mimetype": "text/x-python",
   "name": "python",
   "nbconvert_exporter": "python",
   "pygments_lexer": "ipython3",
   "version": "3.13.5"
  }
 },
 "nbformat": 4,
 "nbformat_minor": 5
}
